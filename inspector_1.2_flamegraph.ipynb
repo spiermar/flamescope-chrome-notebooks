{
 "cells": [
  {
   "cell_type": "code",
   "execution_count": 1,
   "metadata": {},
   "outputs": [],
   "source": [
    "f = open('examples/Profile-20180716T115056', 'r')"
   ]
  },
  {
   "cell_type": "code",
   "execution_count": 2,
   "metadata": {},
   "outputs": [],
   "source": [
    "import json\n",
    "\n",
    "profile = json.load(f)"
   ]
  },
  {
   "cell_type": "code",
   "execution_count": 3,
   "metadata": {},
   "outputs": [],
   "source": [
    "profile_events = []\n",
    "\n",
    "for row in profile:\n",
    "    if row['ph'] == 'I' and row['name'] == 'CpuProfile':\n",
    "        profile_events.append(row)"
   ]
  },
  {
   "cell_type": "code",
   "execution_count": 4,
   "metadata": {},
   "outputs": [],
   "source": [
    "class Node:\n",
    "    def __init__(self, name):\n",
    "        self.name = name\n",
    "        self.value = 0\n",
    "        self.children = []\n",
    "        \n",
    "    def get_child(self, name):\n",
    "        for child in self.children:\n",
    "            if child.name == name:\n",
    "                return child\n",
    "        return None\n",
    "        \n",
    "    def add(self, stack, value):\n",
    "        if len(stack) > 0:\n",
    "            name = stack[0]\n",
    "            child = self.get_child(name)\n",
    "            if child is None:\n",
    "                child = Node(name)\n",
    "                self.children.append(child)\n",
    "            child.add(stack[1:], value)    \n",
    "        else:\n",
    "            self.value += value\n",
    "    def toJSON(self):\n",
    "        return json.dumps(self, default=lambda o: o.__dict__, \n",
    "            sort_keys=True, indent=2)"
   ]
  },
  {
   "cell_type": "code",
   "execution_count": 5,
   "metadata": {
    "scrolled": false
   },
   "outputs": [],
   "source": [
    "def parse_nodes(data):\n",
    "    nodes = {}\n",
    "    for node in data['cpuProfile']['nodes']:\n",
    "        node_id = node['id']\n",
    "        function_name = node['callFrame']['functionName']\n",
    "        url = node['callFrame']['url']\n",
    "        line_number = node['callFrame']['lineNumber']\n",
    "        children = node.get('children')\n",
    "        hit_count = node.get('hitCount')\n",
    "        nodes[node_id] = {'function_name': function_name, 'url': url, 'line_number': line_number, 'hit_count': hit_count, 'children': children}\n",
    "    return nodes"
   ]
  },
  {
   "cell_type": "code",
   "execution_count": 6,
   "metadata": {},
   "outputs": [],
   "source": [
    "import copy\n",
    "\n",
    "root = Node('root')\n",
    "\n",
    "def callgraph(node_id, nodes, stack):\n",
    "    node = nodes[node_id] # break in case id doesn't exist\n",
    "    if node['function_name'] != '(idle)':\n",
    "        if node['function_name'] == '':\n",
    "            node['function_name'] = '(anonymous)'\n",
    "        stack.append(node['function_name'])\n",
    "        if node['hit_count'] > 0:\n",
    "            root.add(stack, node['hit_count'])\n",
    "        if node['children']:\n",
    "            for child in node['children']:\n",
    "                callgraph(child, nodes, copy.copy(stack))\n",
    "    del nodes[node_id]"
   ]
  },
  {
   "cell_type": "code",
   "execution_count": 7,
   "metadata": {},
   "outputs": [],
   "source": [
    "for profile in profile_events:\n",
    "    data = profile['args']['data']\n",
    "    root_id = data['cpuProfile']['nodes'][0]['id']\n",
    "    nodes = parse_nodes(data)\n",
    "    callgraph(root_id, nodes, [])"
   ]
  },
  {
   "cell_type": "code",
   "execution_count": 8,
   "metadata": {},
   "outputs": [],
   "source": [
    "import json\n",
    "\n",
    "with open('inspector_1.2.json', 'w') as file:\n",
    "     file.write(root.get_child('(root)').toJSON())"
   ]
  },
  {
   "cell_type": "code",
   "execution_count": null,
   "metadata": {},
   "outputs": [],
   "source": []
  }
 ],
 "metadata": {
  "kernelspec": {
   "display_name": "Python 3",
   "language": "python",
   "name": "python3"
  },
  "language_info": {
   "codemirror_mode": {
    "name": "ipython",
    "version": 3
   },
   "file_extension": ".py",
   "mimetype": "text/x-python",
   "name": "python",
   "nbconvert_exporter": "python",
   "pygments_lexer": "ipython3",
   "version": "3.6.3"
  }
 },
 "nbformat": 4,
 "nbformat_minor": 2
}
