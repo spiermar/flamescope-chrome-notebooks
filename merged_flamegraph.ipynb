{
 "cells": [
  {
   "cell_type": "markdown",
   "metadata": {},
   "source": [
    "# Merged Flame Graph\n",
    "\n",
    "\n",
    "** This notebook is a work in progress! ** \n",
    "\n",
    "How to generate a Flame Graph out of a Chrome profile. This Flame Graph includes both Trace Event traces and Inspector 1.2 profiles.. Example file was recorded in Chrome.\n",
    "\n",
    "Chrome profiles use a mix of 2 formats. The Trace Event format, with timed, nested begin and end events, that allow us to assemble the stack and extract durations, and the Inspector 1.2 format, a slightly different version of the previous v8 profiler format, that contains a list of samples and references to stacks. The Chrome-generated profile embeds the CpuProfile in multime Instant Events (\"I\").\n",
    "\n",
    "The Chrome Tracing tool, only parses the Trace Event format, ignoring the CpuProfile events, but the Performance tab in DevTools merges both to form a timeline.\n",
    "\n",
    "There are multiple options to merge these, but they all require a lot of Chrome-specific logic, like what sub-invocation events to merge into the v8 profiled stack, and where to merge the v8 events.\n",
    "\n",
    "One option would be to convert all profiled samples into Trace Event events, then merge them based on timestamp, but the timestamps are not precise enough (there are negative time deltas in the profile) and I couldn't get them aligned correctly.\n",
    "\n",
    "The other option, used in this notebook, was to convert all CpuProfile samples into Complete (\"X\") events, using timeDelta as the event duration. Find all JavaScript invocation events, and split all events nested in them, then add them to the correct \"X\" event stack. That's where I stopped. The last step would be to add all \"X\" events to the right JavaScript invocation event in the \"main\" Trace Event profile. The invocation events have references to the function being called, so a bit easier. With this single merged profile, it's easy to generate the flame graph.\n",
    "\n",
    "Feel free to pick up from where I left!"
   ]
  },
  {
   "cell_type": "code",
   "execution_count": 1,
   "metadata": {},
   "outputs": [],
   "source": [
    "f = open('examples/Profile-20180716T115056', 'r')"
   ]
  },
  {
   "cell_type": "code",
   "execution_count": 2,
   "metadata": {},
   "outputs": [],
   "source": [
    "import json\n",
    "\n",
    "profile = json.load(f)"
   ]
  },
  {
   "cell_type": "code",
   "execution_count": 3,
   "metadata": {},
   "outputs": [],
   "source": [
    "start = None\n",
    "end = None\n",
    "\n",
    "js_invocation_events = (\n",
    "    'RunMicrotasks',\n",
    "    'FunctionCall',\n",
    "    'EvaluateScript',\n",
    "    'v8.evaluateModule',\n",
    "    'EventDispatch',\n",
    "    'V8.Execute'\n",
    ")\n",
    "\n",
    "profile_events = []\n",
    "trace_events = []\n",
    "js_stack_events = []\n",
    "is_js_stack = False\n",
    "\n",
    "for row in profile:\n",
    "    if row['ph'] != 'M':\n",
    "        if start is None or int(row['ts']) < start:\n",
    "            start = int(row['ts'])\n",
    "        if end is None or int(row['ts']) > end:\n",
    "            end = int(row['ts'])\n",
    "    cat = row['cat'].split(',')\n",
    "    if 'devtools.timeline' in cat:\n",
    "        if row['ph'] in ['B', 'E', 'X']:\n",
    "            if row['name'] in js_invocation_events:\n",
    "                if row['ph'] == 'B':\n",
    "                    is_js_stack = True\n",
    "                    trace_events.append(row)\n",
    "                elif row['ph'] == 'E':\n",
    "                    is_js_stack = False\n",
    "                    trace_events.append(row)\n",
    "            else:\n",
    "                if is_js_stack:\n",
    "                    js_stack_events.append(row)\n",
    "                else:\n",
    "                    trace_events.append(row)\n",
    "    if row['ph'] == 'I' and row['name'] == 'CpuProfile':\n",
    "        profile_events.append(row)"
   ]
  },
  {
   "cell_type": "code",
   "execution_count": 4,
   "metadata": {
    "scrolled": false
   },
   "outputs": [],
   "source": [
    "def parse_nodes(data):\n",
    "    nodes = {}\n",
    "    for node in data['cpuProfile']['nodes']:\n",
    "        node_id = node['id']\n",
    "        function_name = node['callFrame']['functionName']\n",
    "        url = node['callFrame']['url']\n",
    "        line_number = node['callFrame']['lineNumber']\n",
    "        children = node.get('children')\n",
    "        hit_count = node.get('hitCount')\n",
    "        nodes[node_id] = {'function_name': function_name, 'url': url, 'line_number': line_number, 'hit_count': hit_count, 'children': children}\n",
    "    return nodes"
   ]
  },
  {
   "cell_type": "code",
   "execution_count": 5,
   "metadata": {},
   "outputs": [],
   "source": [
    "import copy\n",
    "\n",
    "def generate_stacks(node_id, nodes, stacks, current_stack):\n",
    "    node = nodes[node_id] # break in case id doesn't exist\n",
    "    if node['function_name'] == '':\n",
    "        node['function_name'] = '(anonymous)'\n",
    "    if node['function_name'] != '(root)':\n",
    "        current_stack.append(node['function_name'])\n",
    "        stacks[node_id] = current_stack\n",
    "    if node['children']:\n",
    "        for child in node['children']:\n",
    "            generate_stacks(child, nodes, stacks, copy.copy(current_stack))\n",
    "    del nodes[node_id]"
   ]
  },
  {
   "cell_type": "code",
   "execution_count": 6,
   "metadata": {},
   "outputs": [],
   "source": [
    "def get_events(pid, tid, samples, time_deltas, start_time, stacks, ignore_ids):\n",
    "    events = []\n",
    "    current_time = start_time + time_deltas[0]\n",
    "    for index, sample in enumerate(samples):\n",
    "        if index == (len(samples) - 1): # last sample\n",
    "            break\n",
    "        delta = time_deltas[index + 1]\n",
    "        if delta < 0: # TODO: find a better way to deal with negative time deltas\n",
    "            delta = 0\n",
    "            continue\n",
    "        current_time += delta\n",
    "        if sample not in ignore_ids:\n",
    "            stack = stacks[sample]\n",
    "            events.append({\n",
    "                'pid': pid,\n",
    "                'tid': tid,\n",
    "                'name': stack[0],\n",
    "                'cat': 'JSFrame',\n",
    "                'ph': 'X',\n",
    "                'ts': current_time,\n",
    "                'dur': delta,\n",
    "                'stack': stack\n",
    "            })\n",
    "    return events"
   ]
  },
  {
   "cell_type": "code",
   "execution_count": 7,
   "metadata": {},
   "outputs": [],
   "source": [
    "def get_meta_ids(nodes):\n",
    "    program_node_id = None\n",
    "    idle_node_id = None\n",
    "    gc_node_id = None\n",
    "    for key, node in nodes.items():\n",
    "        if node['function_name'] == '(program)':\n",
    "            program_node_id = key\n",
    "        elif node['function_name'] == '(idle)':\n",
    "            idle_node_id = key\n",
    "        elif node['function_name'] == '(garbage collector)':\n",
    "            gc_node_id = key\n",
    "    return program_node_id, idle_node_id, gc_node_id"
   ]
  },
  {
   "cell_type": "code",
   "execution_count": 8,
   "metadata": {},
   "outputs": [],
   "source": [
    "cpuprofile_events = []\n",
    "\n",
    "for profile in profile_events:\n",
    "    pid = profile['pid']\n",
    "    tid = profile['tid']\n",
    "    data = profile['args']['data']\n",
    "    root_id = data['cpuProfile']['nodes'][0]['id']\n",
    "    nodes = parse_nodes(data)\n",
    "    ignore_ids = get_meta_ids(nodes)\n",
    "    stacks = {}\n",
    "    generate_stacks(root_id, nodes, stacks, [])\n",
    "    cpuprofile_events += get_events(pid, tid, data['cpuProfile']['samples'], data['cpuProfile']['timeDeltas'], data['cpuProfile']['startTime'], stacks, ignore_ids)\n"
   ]
  },
  {
   "cell_type": "code",
   "execution_count": 9,
   "metadata": {},
   "outputs": [],
   "source": [
    "# TODO: subtract deltas to find error rate\n",
    "\n",
    "def add_to_stack(start_time, end_time, name, cpuprofile_events_index):\n",
    "    dur = end_time - start_time\n",
    "    start_event_index = None\n",
    "    end_event_index = None\n",
    "    for i in range(cpuprofile_events_index, len(cpuprofile_events)):\n",
    "        if cpuprofile_events[i]['ts'] > start_time:\n",
    "            if start_event_index is None:\n",
    "                start_event_index = i\n",
    "        if cpuprofile_events[i]['ts'] > end_time:\n",
    "            end_event_index = i\n",
    "            break\n",
    "        cpuprofile_events_index = i\n",
    "    if start_event_index is not None and end_event_index is not None:\n",
    "        if (end_event_index - start_event_index) > 1:\n",
    "            for i in range(start_event_index, end_event_index):\n",
    "                cpuprofile_events[i]['stack'].append(name)\n",
    "        elif (end_event_index - start_event_index) == 0:\n",
    "            if (dur / cpuprofile_events[start_event_index]['dur']) > 0.5:\n",
    "                # ignore if event duration is less than 50% of the sampled delta\n",
    "                cpuprofile_events[start_event_index]['stack'].append(name)\n",
    "        else:\n",
    "            raise Exception(\"event index is reversed\", start_event_index, end_event_index) \n",
    "    else:\n",
    "        # raise Exception(\"could not find start or end index\", start_time, end_time)\n",
    "        print(\"could not find start or end index\", start_time, end_time)\n",
    "    return cpuprofile_events_index"
   ]
  },
  {
   "cell_type": "code",
   "execution_count": 10,
   "metadata": {
    "scrolled": true
   },
   "outputs": [
    {
     "name": "stdout",
     "output_type": "stream",
     "text": [
      "could not find start or end index 24636966935 24636967192\n",
      "could not find start or end index 24636969766 24636972042\n",
      "could not find start or end index 24636972121 24636972372\n",
      "could not find start or end index 24636972430 24636973866\n",
      "could not find start or end index 24636974867 24636975135\n"
     ]
    }
   ],
   "source": [
    "# adding nested js invocation events to cpuprofile events [WIP]\n",
    "# there is a lot of chrome-specific logic on what events to add or not\n",
    "# only certain events under the invocation events will be added to the js stack (Render, Recalculate, etc)\n",
    "# defining where in the stack to add them can get tricky too\n",
    "# the time skew in the sample time deltas accumulates over time, making it hard to align times towards the end\n",
    "\n",
    "# TODO: handle multi-level stacks\n",
    "\n",
    "is_stack_open = False\n",
    "ts = None\n",
    "cat = None\n",
    "name = None\n",
    "\n",
    "cpuprofile_events_index = 0\n",
    "\n",
    "for event in js_stack_events:\n",
    "    if event['ph'] == 'B':\n",
    "        if is_stack_open:\n",
    "            raise Exception(\"multi-level stack found\")\n",
    "        is_stack_open = True\n",
    "        ts = event['ts']\n",
    "        cat = event['cat']\n",
    "        name = event['name']\n",
    "    elif event['ph'] == 'E':\n",
    "        if not is_stack_open:\n",
    "            raise Exception(\"end event found without an open stack\")\n",
    "        if event['cat'] != cat or event['name'] != name:\n",
    "            raise Exception(\"end event with different cat or name\")\n",
    "        cpuprofile_events_index = add_to_stack(ts, event['ts'], event['name'], cpuprofile_events_index)\n",
    "        is_stack_open = False\n",
    "        ts = None\n",
    "        cat = None\n",
    "        name = None\n",
    "    elif event['ph'] == 'X':\n",
    "        start_time = event['ts']\n",
    "        end_time = event['ts'] + event['dur']\n",
    "        cpuprofile_events_index = add_to_stack(start_time, end_time, event['name'], cpuprofile_events_index)\n",
    "         "
   ]
  },
  {
   "cell_type": "code",
   "execution_count": 11,
   "metadata": {},
   "outputs": [
    {
     "name": "stdout",
     "output_type": "stream",
     "text": [
      "0.269614 seconds\n"
     ]
    }
   ],
   "source": [
    "# time skew\n",
    "\n",
    "print((cpuprofile_events[-1]['ts'] - js_stack_events[-1]['ts']) / 1000000, \"seconds\")"
   ]
  },
  {
   "cell_type": "code",
   "execution_count": 12,
   "metadata": {},
   "outputs": [],
   "source": [
    "# TODO: add cpuprofile_events to trace_events"
   ]
  },
  {
   "cell_type": "code",
   "execution_count": 13,
   "metadata": {},
   "outputs": [],
   "source": [
    "root = {'name': 'root', 'value': 0, 'children': []}\n",
    "open_partial_slices = {}\n",
    "\n",
    "# TODO: handle CPU time differences, where \"E\" comes before \"B\"\n",
    "\n",
    "def get_child_slice(parent_slice, name):\n",
    "    for index, child in enumerate(parent_slice['children']):\n",
    "        if child['name'] == name:\n",
    "            return parent_slice['children'].pop(index)\n",
    "    return None\n",
    "\n",
    "def insert_slice(parent_slice, new_slice):\n",
    "    child_slice = get_child_slice(parent_slice, new_slice['name'])\n",
    "    if child_slice is None:\n",
    "        child_slice = {'name': new_slice['name'], 'value': 0, 'children': []}\n",
    "    for child in new_slice['children']:\n",
    "        insert_slice(child_slice, child)\n",
    "    child_slice['value'] += new_slice['value']\n",
    "    parent_slice['children'].append(child_slice)\n",
    "\n",
    "def check_thread(pid, tid):\n",
    "    if pid not in open_partial_slices:\n",
    "        open_partial_slices[pid] = {}\n",
    "    if tid not in open_partial_slices[pid]:\n",
    "        open_partial_slices[pid][tid] = []\n",
    "\n",
    "def begin_slice(pid, tid, cat, name, ts, tts):\n",
    "    check_thread(pid, tid)\n",
    "    open_partial_slices[pid][tid].append({'pid': pid, 'tid': tid, 'cat': cat, 'name': name, 'ts': ts, 'tts': tts, 'children': []})\n",
    "\n",
    "def end_slice(pid, tid, cat, name, ts, tts):\n",
    "    partial_slice_count = len(open_partial_slices[pid][tid])\n",
    "    if partial_slice_count > 0:\n",
    "        current_slice = open_partial_slices[pid][tid].pop()\n",
    "        if current_slice['cat'] != cat or current_slice['name'] != name:\n",
    "            raise Exception(\"ending slice with different cat or name\", pid, tid, cat, name, ts)\n",
    "        current_slice['dur'] = ts - current_slice['ts']\n",
    "        if tts is not None and current_slice['tts'] is not None:\n",
    "            current_slice['tdur'] = tts - current_slice['tts']\n",
    "        if 'tdur' in current_slice:\n",
    "            current_slice['value'] = current_slice['tdur']\n",
    "        else:\n",
    "            current_slice['value'] = current_slice['dur']\n",
    "        partial_slice_count = len(open_partial_slices[pid][tid])\n",
    "        if partial_slice_count > 0:\n",
    "            open_partial_slices[pid][tid][partial_slice_count - 1]['children'].append(current_slice)\n",
    "        else:\n",
    "            insert_slice(root, current_slice)\n",
    "    else:\n",
    "        raise Exception(\"end_slice called without an open slice\", pid, tid, cat, name, ts)"
   ]
  },
  {
   "cell_type": "code",
   "execution_count": 14,
   "metadata": {
    "scrolled": false
   },
   "outputs": [],
   "source": [
    "# TODO: handle \"sf\" and \"stack\" properties on Duration Events\n",
    "\n",
    "for row in iter(cpuprofile_events):\n",
    "    if row['ph'] == 'B' or row['ph'] == 'E':\n",
    "        if row['ph'] == 'B':\n",
    "            begin_slice(row['pid'], row['tid'], row['cat'], row['name'], row['ts'], row.get('tts'))\n",
    "        elif row['ph'] == 'E':\n",
    "            end_slice(row['pid'], row['tid'], row['cat'], row['name'], row['ts'], row.get('tts'))\n",
    "    elif row['ph'] == 'X':\n",
    "        end_tts = None\n",
    "        if 'tts' in row and 'tdur' in row:\n",
    "            end_tts = row['tts'] + row['tdur']\n",
    "        if 'dur' in row and row['dur'] > 0:\n",
    "            begin_slice(row['pid'], row['tid'], row['cat'], row['name'], row['ts'], row.get('tts'))\n",
    "            end_slice(row['pid'], row['tid'], row['cat'], row['name'], row['ts'] + row['dur'], end_tts)"
   ]
  },
  {
   "cell_type": "code",
   "execution_count": 15,
   "metadata": {},
   "outputs": [],
   "source": [
    "import json\n",
    "\n",
    "with open('merged.json', 'w') as file:\n",
    "     file.write(json.dumps(root))"
   ]
  },
  {
   "cell_type": "code",
   "execution_count": null,
   "metadata": {},
   "outputs": [],
   "source": []
  }
 ],
 "metadata": {
  "kernelspec": {
   "display_name": "Python 3",
   "language": "python",
   "name": "python3"
  },
  "language_info": {
   "codemirror_mode": {
    "name": "ipython",
    "version": 3
   },
   "file_extension": ".py",
   "mimetype": "text/x-python",
   "name": "python",
   "nbconvert_exporter": "python",
   "pygments_lexer": "ipython3",
   "version": "3.6.5"
  }
 },
 "nbformat": 4,
 "nbformat_minor": 2
}
