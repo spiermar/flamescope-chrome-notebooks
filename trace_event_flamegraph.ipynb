{
 "cells": [
  {
   "cell_type": "code",
   "execution_count": 86,
   "metadata": {},
   "outputs": [],
   "source": [
    "f = open('Profile-20180716T115056', 'r')"
   ]
  },
  {
   "cell_type": "code",
   "execution_count": 87,
   "metadata": {},
   "outputs": [],
   "source": [
    "import json\n",
    "\n",
    "data = json.load(f)"
   ]
  },
  {
   "cell_type": "code",
   "execution_count": 88,
   "metadata": {},
   "outputs": [],
   "source": [
    "root = {'name': 'root', 'value': 0, 'children': []}\n",
    "open_partial_slices = {}\n",
    "\n",
    "def get_child_slice(parent_slice, name):\n",
    "    for index, child in enumerate(parent_slice['children']):\n",
    "        if child['name'] == name:\n",
    "            return parent_slice['children'].pop(index)\n",
    "    return None\n",
    "\n",
    "def insert_slice(parent_slice, new_slice):\n",
    "    child_slice = get_child_slice(parent_slice, new_slice['name'])\n",
    "    if child_slice is None:\n",
    "        parent_slice['children'].append(new_slice)\n",
    "    else:\n",
    "        for child in new_slice['children']:\n",
    "            insert_slice(child_slice, child)\n",
    "        child_slice['value'] += new_slice['value']\n",
    "        parent_slice['children'].append(child_slice)\n",
    "\n",
    "def check_thread(pid, tid):\n",
    "    if pid not in open_partial_slices:\n",
    "        open_partial_slices[pid] = {}\n",
    "    if tid not in open_partial_slices[pid]:\n",
    "        open_partial_slices[pid][tid] = []\n",
    "\n",
    "def begin_slice(pid, tid, cat, name, ts, tts):\n",
    "    check_thread(pid, tid)\n",
    "    open_partial_slices[pid][tid].append({'pid': pid, 'tid': tid, 'cat': cat, 'name': name, 'ts': ts, 'tts': tts, 'children': []})\n",
    "\n",
    "def end_slice(pid, tid, ts, tts):\n",
    "    partial_slice_count = len(open_partial_slices[pid][tid])\n",
    "    if partial_slice_count > 0:\n",
    "        current_slice = open_partial_slices[pid][tid].pop()\n",
    "        current_slice['dur'] = ts - current_slice['ts']\n",
    "        current_slice['tdur'] = tts - current_slice['tts']\n",
    "        if current_slice['dur'] > 0:\n",
    "            current_slice['value'] = current_slice['tdur'] / current_slice['dur']\n",
    "        partial_slice_count = len(open_partial_slices[pid][tid])\n",
    "        if partial_slice_count > 0:\n",
    "            open_partial_slices[pid][tid][partial_slice_count - 1]['children'].append(current_slice)\n",
    "        else:\n",
    "            insert_slice(root, current_slice)\n",
    "    else:\n",
    "        raise Exception(\"end_slice called without an open slice\")"
   ]
  },
  {
   "cell_type": "code",
   "execution_count": 89,
   "metadata": {
    "scrolled": false
   },
   "outputs": [],
   "source": [
    "start = None\n",
    "end = None\n",
    "\n",
    "for row in data:\n",
    "    if row['ph'] != 'M':\n",
    "        if start is None or int(row['ts']) < start:\n",
    "            start = int(row['ts'])\n",
    "        if end is None or int(row['ts']) > end:\n",
    "            end = int(row['ts'])\n",
    "    if row['ph'] == 'B' or row['ph'] == 'E':\n",
    "        if row['ph'] == 'B':\n",
    "            begin_slice(row['pid'], row['tid'], row['cat'], row['name'], row['ts'], row['tts'])\n",
    "        elif row['ph'] == 'E':\n",
    "            end_slice(row['pid'], row['tid'], row['ts'], row['tts'])"
   ]
  },
  {
   "cell_type": "code",
   "execution_count": 90,
   "metadata": {},
   "outputs": [],
   "source": [
    "import json\n",
    "\n",
    "with open('trace_event.json', 'w') as file:\n",
    "     file.write(json.dumps(root))"
   ]
  },
  {
   "cell_type": "code",
   "execution_count": null,
   "metadata": {},
   "outputs": [],
   "source": []
  }
 ],
 "metadata": {
  "kernelspec": {
   "display_name": "Python 3",
   "language": "python",
   "name": "python3"
  },
  "language_info": {
   "codemirror_mode": {
    "name": "ipython",
    "version": 3
   },
   "file_extension": ".py",
   "mimetype": "text/x-python",
   "name": "python",
   "nbconvert_exporter": "python",
   "pygments_lexer": "ipython3",
   "version": "3.6.5"
  }
 },
 "nbformat": 4,
 "nbformat_minor": 2
}
