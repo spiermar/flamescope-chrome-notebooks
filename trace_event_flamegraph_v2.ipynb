{
 "cells": [
  {
   "cell_type": "code",
   "execution_count": 1,
   "metadata": {},
   "outputs": [],
   "source": [
    "f = open('Profile-20180716T115056', 'r')"
   ]
  },
  {
   "cell_type": "code",
   "execution_count": 2,
   "metadata": {},
   "outputs": [],
   "source": [
    "import json\n",
    "\n",
    "profile = json.load(f)"
   ]
  },
  {
   "cell_type": "code",
   "execution_count": 3,
   "metadata": {},
   "outputs": [],
   "source": [
    "profile_events = []\n",
    "\n",
    "for row in profile:\n",
    "    if row['ph'] == 'I' and row['name'] == 'CpuProfile':\n",
    "        profile_events.append(row)"
   ]
  },
  {
   "cell_type": "code",
   "execution_count": 4,
   "metadata": {
    "scrolled": false
   },
   "outputs": [],
   "source": [
    "def parse_nodes(data):\n",
    "    nodes = {}\n",
    "    for node in data['cpuProfile']['nodes']:\n",
    "        node_id = node['id']\n",
    "        function_name = node['callFrame']['functionName']\n",
    "        url = node['callFrame']['url']\n",
    "        line_number = node['callFrame']['lineNumber']\n",
    "        children = node.get('children')\n",
    "        hit_count = node.get('hitCount')\n",
    "        nodes[node_id] = {'function_name': function_name, 'url': url, 'line_number': line_number, 'hit_count': hit_count, 'children': children}\n",
    "    return nodes"
   ]
  },
  {
   "cell_type": "code",
   "execution_count": 5,
   "metadata": {},
   "outputs": [],
   "source": [
    "import copy\n",
    "\n",
    "def generate_stacks(node_id, nodes, stacks, current_stack):\n",
    "    node = nodes[node_id] # break in case id doesn't exist\n",
    "    if node['function_name'] != '(idle)':\n",
    "        if node['function_name'] == '':\n",
    "            node['function_name'] = '(anonymous)'\n",
    "        current_stack.append(node['function_name'])\n",
    "        if node['hit_count'] > 0:\n",
    "            stacks[node_id] = current_stack\n",
    "        if node['children']:\n",
    "            for child in node['children']:\n",
    "                generate_stacks(child, nodes, stacks, copy.copy(current_stack))\n",
    "    del nodes[node_id]"
   ]
  },
  {
   "cell_type": "code",
   "execution_count": null,
   "metadata": {},
   "outputs": [],
   "source": [
    "def get_events(samples, time_deltas, start_time, stacks):\n",
    "    events = []\n",
    "    current_time = start_time\n",
    "    for index, delta in enumerate(time_deltas):\n",
    "        current_time += delta\n",
    "        if samples[index] != idle_id, and samples[index] != program_id:\n",
    "            # start = current_time\n",
    "            # duration = time_deltas(index + 1)"
   ]
  },
  {
   "cell_type": "code",
   "execution_count": 11,
   "metadata": {},
   "outputs": [
    {
     "name": "stdout",
     "output_type": "stream",
     "text": [
      "['(root)', '(program)']\n"
     ]
    }
   ],
   "source": [
    "for profile in profile_events:\n",
    "    data = profile['args']['data']\n",
    "    root_id = data['cpuProfile']['nodes'][0]['id']\n",
    "    nodes = parse_nodes(data)\n",
    "    stacks = {}\n",
    "    generate_stacks(root_id, nodes, stacks, [])\n",
    "    events = get_events(data['cpuProfile']['samples'], data['cpuProfile']['timeDeltas'], data['cpuProfile']['startTime'], callgraph)"
   ]
  },
  {
   "cell_type": "code",
   "execution_count": null,
   "metadata": {},
   "outputs": [],
   "source": [
    "print(events)"
   ]
  },
  {
   "cell_type": "code",
   "execution_count": null,
   "metadata": {},
   "outputs": [],
   "source": []
  }
 ],
 "metadata": {
  "kernelspec": {
   "display_name": "Python 3",
   "language": "python",
   "name": "python3"
  },
  "language_info": {
   "codemirror_mode": {
    "name": "ipython",
    "version": 3
   },
   "file_extension": ".py",
   "mimetype": "text/x-python",
   "name": "python",
   "nbconvert_exporter": "python",
   "pygments_lexer": "ipython3",
   "version": "3.6.3"
  }
 },
 "nbformat": 4,
 "nbformat_minor": 2
}
