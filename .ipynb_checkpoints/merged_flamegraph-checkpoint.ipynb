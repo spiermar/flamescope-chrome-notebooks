{
 "cells": [
  {
   "cell_type": "markdown",
   "metadata": {},
   "source": [
    "# Merged Flame Graph\n",
    "\n",
    "How to generate a Flame Graph out of a Chrome profile. This Flame Graph includes both Trace Event traces and Inspector 1.2 profiles.. Example file was recorded in Chrome."
   ]
  },
  {
   "cell_type": "code",
   "execution_count": 25,
   "metadata": {},
   "outputs": [],
   "source": [
    "f = open('examples/Profile-20180716T115056', 'r')"
   ]
  },
  {
   "cell_type": "code",
   "execution_count": 26,
   "metadata": {},
   "outputs": [],
   "source": [
    "import json\n",
    "\n",
    "profile = json.load(f)"
   ]
  },
  {
   "cell_type": "code",
   "execution_count": 27,
   "metadata": {},
   "outputs": [],
   "source": [
    "start = None\n",
    "end = None\n",
    "\n",
    "profile_events = []\n",
    "trace_events = []\n",
    "\n",
    "for row in profile:\n",
    "    if row['ph'] != 'M':\n",
    "        if start is None or int(row['ts']) < start:\n",
    "            start = int(row['ts'])\n",
    "        if end is None or int(row['ts']) > end:\n",
    "            end = int(row['ts'])\n",
    "    if row['ph'] in ['B', 'E', 'X']:\n",
    "        trace_events.append(row)\n",
    "    elif row['ph'] == 'I' and row['name'] == 'CpuProfile':\n",
    "        profile_events.append(row)"
   ]
  },
  {
   "cell_type": "code",
   "execution_count": 28,
   "metadata": {
    "scrolled": false
   },
   "outputs": [],
   "source": [
    "def parse_nodes(data):\n",
    "    nodes = {}\n",
    "    for node in data['cpuProfile']['nodes']:\n",
    "        node_id = node['id']\n",
    "        function_name = node['callFrame']['functionName']\n",
    "        url = node['callFrame']['url']\n",
    "        line_number = node['callFrame']['lineNumber']\n",
    "        children = node.get('children')\n",
    "        hit_count = node.get('hitCount')\n",
    "        nodes[node_id] = {'function_name': function_name, 'url': url, 'line_number': line_number, 'hit_count': hit_count, 'children': children}\n",
    "    return nodes"
   ]
  },
  {
   "cell_type": "code",
   "execution_count": 29,
   "metadata": {},
   "outputs": [],
   "source": [
    "import copy\n",
    "\n",
    "def generate_stacks(node_id, nodes, stacks, current_stack):\n",
    "    node = nodes[node_id] # break in case id doesn't exist\n",
    "    if node['function_name'] == '':\n",
    "        node['function_name'] = '(anonymous)'\n",
    "    if node['function_name'] != '(root)':\n",
    "        current_stack.append(node['function_name'])\n",
    "        stacks[node_id] = current_stack\n",
    "    if node['children']:\n",
    "        for child in node['children']:\n",
    "            generate_stacks(child, nodes, stacks, copy.copy(current_stack))\n",
    "    del nodes[node_id]"
   ]
  },
  {
   "cell_type": "code",
   "execution_count": 30,
   "metadata": {},
   "outputs": [],
   "source": [
    "def create_begin_events(pid, tid, stack, ts):\n",
    "    events = []\n",
    "    # walk forward on the stack\n",
    "    for frame in stack:\n",
    "        events.append({\n",
    "            'pid': pid,\n",
    "            'tid': tid,\n",
    "            'name': frame,\n",
    "            'cat': 'jssample',\n",
    "            'ph': 'B',\n",
    "            'ts': ts\n",
    "        })\n",
    "    return events\n",
    "    \n",
    "def create_end_events(pid, tid, stack, ts):\n",
    "    events = []\n",
    "    # walk backwards on the stack\n",
    "    for frame in reversed(stack):\n",
    "        events.append({\n",
    "            'pid': pid,\n",
    "            'tid': tid,\n",
    "            'name': frame,\n",
    "            'cat': 'jssample',\n",
    "            'ph': 'E',\n",
    "            'ts': ts\n",
    "        })\n",
    "    return events\n",
    "\n",
    "# TODO: several slices start and end at the same timestamp\n",
    "\n",
    "def change_stack(pid, tid, previous_stack, current_stack, ts, is_last_sample):\n",
    "    if is_last_sample:\n",
    "        # just close everything\n",
    "        return create_end_events(pid, tid, previous_stack, ts)\n",
    "    stack_index = 0\n",
    "    for previous_frame in previous_stack:\n",
    "        current_frame = None\n",
    "        if stack_index < len(current_stack):\n",
    "            current_frame = current_stack[stack_index]\n",
    "        if current_frame is None:\n",
    "            # the previous stack is equal to the current\n",
    "            # but current stack is shorter than previous\n",
    "            # have to end the remaining of the previous stack\n",
    "            return create_end_events(pid, tid, previous_stack[stack_index:], ts)\n",
    "        if current_frame != previous_frame:\n",
    "            # at this frame, the stacks differ\n",
    "            # have to end the previous stack from here and begin a new stack\n",
    "            events = []\n",
    "            events += create_end_events(pid, tid, previous_stack[stack_index:], ts)\n",
    "            events += create_begin_events(pid, tid, current_stack[stack_index:], ts)\n",
    "            return events\n",
    "        stack_index += 1\n",
    "    if len(current_stack) > stack_index:\n",
    "        # the previous stack is equal to the current\n",
    "        # but the current stack is longer\n",
    "        return create_begin_events(pid, tid, current_stack[stack_index:], ts) \n",
    "    # stack is the same\n",
    "    return []"
   ]
  },
  {
   "cell_type": "code",
   "execution_count": 31,
   "metadata": {},
   "outputs": [],
   "source": [
    "def get_events(pid, tid, samples, time_deltas, start_time, stacks, ignore_ids):\n",
    "    events = []\n",
    "    current_time = start_time\n",
    "    previous_sample = None\n",
    "    previous_stack = []\n",
    "    for index, sample in enumerate(samples):\n",
    "        delta = time_deltas[index]\n",
    "        if delta < 0:\n",
    "            delta = 0\n",
    "        current_time += delta\n",
    "        if sample != previous_sample:\n",
    "            current_stack = stacks[sample]\n",
    "            is_last_sample = index == (len(samples) - 1)\n",
    "            if sample in ignore_ids:\n",
    "                current_stack = []\n",
    "            events += change_stack(pid, tid, previous_stack, current_stack, current_time, is_last_sample)\n",
    "            previous_sample = sample\n",
    "            previous_stack = current_stack\n",
    "    return events"
   ]
  },
  {
   "cell_type": "code",
   "execution_count": 32,
   "metadata": {},
   "outputs": [],
   "source": [
    "def get_meta_ids(nodes):\n",
    "    program_node_id = None\n",
    "    idle_node_id = None\n",
    "    gc_node_id = None\n",
    "    for key, node in nodes.items():\n",
    "        if node['function_name'] == '(program)':\n",
    "            program_node_id = key\n",
    "        elif node['function_name'] == '(idle)':\n",
    "            idle_node_id = key\n",
    "        elif node['function_name'] == '(garbage collector)':\n",
    "            gc_node_id = key\n",
    "    return program_node_id, idle_node_id, gc_node_id"
   ]
  },
  {
   "cell_type": "code",
   "execution_count": 33,
   "metadata": {},
   "outputs": [],
   "source": [
    "v8_events = []\n",
    "\n",
    "for profile in profile_events:\n",
    "    pid = profile['pid']\n",
    "    tid = profile['tid']\n",
    "    data = profile['args']['data']\n",
    "    root_id = data['cpuProfile']['nodes'][0]['id']\n",
    "    nodes = parse_nodes(data)\n",
    "    ignore_ids = get_meta_ids(nodes)\n",
    "    stacks = {}\n",
    "    generate_stacks(root_id, nodes, stacks, [])\n",
    "    v8_events += get_events(pid, tid, data['cpuProfile']['samples'], data['cpuProfile']['timeDeltas'], data['cpuProfile']['startTime'], stacks, ignore_ids)\n"
   ]
  },
  {
   "cell_type": "code",
   "execution_count": 35,
   "metadata": {},
   "outputs": [],
   "source": [
    "# from sortedcollection import SortedCollection\n",
    "# from operator import itemgetter\n",
    "\n",
    "# sorted_profile = SortedCollection(key=itemgetter('ts'))\n",
    "\n",
    "# for event in trace_events: \n",
    "#     sorted_profile.insert_right(event)\n",
    "\n",
    "# for event in js_events:\n",
    "#     sorted_profile.insert(event)"
   ]
  },
  {
   "cell_type": "code",
   "execution_count": 36,
   "metadata": {},
   "outputs": [],
   "source": [
    "# TODO: better merging mechanism\n",
    "\n",
    "trace_events_index = 0\n",
    "\n",
    "for v8_event in v8_events:\n",
    "    for index, trace_event in enumerate(trace_events[trace_events_index:]):\n",
    "        "
   ]
  },
  {
   "cell_type": "code",
   "execution_count": 34,
   "metadata": {},
   "outputs": [],
   "source": [
    "root = {'name': 'root', 'value': 0, 'children': []}\n",
    "open_partial_slices = {}\n",
    "\n",
    "# TODO: handle CPU time differences, where \"E\" comes before \"B\"\n",
    "\n",
    "def get_child_slice(parent_slice, name):\n",
    "    for index, child in enumerate(parent_slice['children']):\n",
    "        if child['name'] == name:\n",
    "            return parent_slice['children'].pop(index)\n",
    "    return None\n",
    "\n",
    "def insert_slice(parent_slice, new_slice):\n",
    "    child_slice = get_child_slice(parent_slice, new_slice['name'])\n",
    "    if child_slice is None:\n",
    "        child_slice = {'name': new_slice['name'], 'value': 0, 'children': []}\n",
    "    for child in new_slice['children']:\n",
    "        insert_slice(child_slice, child)\n",
    "    child_slice['value'] += new_slice['value']\n",
    "    parent_slice['children'].append(child_slice)\n",
    "\n",
    "def check_thread(pid, tid):\n",
    "    if pid not in open_partial_slices:\n",
    "        open_partial_slices[pid] = {}\n",
    "    if tid not in open_partial_slices[pid]:\n",
    "        open_partial_slices[pid][tid] = []\n",
    "\n",
    "def begin_slice(pid, tid, cat, name, ts, tts):\n",
    "    check_thread(pid, tid)\n",
    "    open_partial_slices[pid][tid].append({'pid': pid, 'tid': tid, 'cat': cat, 'name': name, 'ts': ts, 'tts': tts, 'children': []})\n",
    "\n",
    "def end_slice(pid, tid, cat, name, ts, tts):\n",
    "    partial_slice_count = len(open_partial_slices[pid][tid])\n",
    "    if partial_slice_count > 0:\n",
    "        current_slice = open_partial_slices[pid][tid].pop()\n",
    "        if current_slice['cat'] != cat or current_slice['name'] != name:\n",
    "            raise Exception(\"ending slice with different cat or name\", pid, tid, cat, name, ts)\n",
    "        current_slice['dur'] = ts - current_slice['ts']\n",
    "        if tts is not None and current_slice['tts'] is not None:\n",
    "            current_slice['tdur'] = tts - current_slice['tts']\n",
    "        if 'tdur' in current_slice:\n",
    "            current_slice['value'] = current_slice['tdur']\n",
    "        else:\n",
    "            current_slice['value'] = current_slice['dur']\n",
    "        partial_slice_count = len(open_partial_slices[pid][tid])\n",
    "        if partial_slice_count > 0:\n",
    "            open_partial_slices[pid][tid][partial_slice_count - 1]['children'].append(current_slice)\n",
    "        else:\n",
    "            insert_slice(root, current_slice)\n",
    "    else:\n",
    "        raise Exception(\"end_slice called without an open slice\", pid, tid, cat, name, ts)"
   ]
  },
  {
   "cell_type": "code",
   "execution_count": 37,
   "metadata": {
    "scrolled": false
   },
   "outputs": [],
   "source": [
    "# TODO: handle \"sf\" and \"stack\" properties on Duration Events\n",
    "\n",
    "for row in iter(trace_events):\n",
    "    if row['ph'] == 'B' or row['ph'] == 'E':\n",
    "        if row['ph'] == 'B':\n",
    "            begin_slice(row['pid'], row['tid'], row['cat'], row['name'], row['ts'], row.get('tts'))\n",
    "        elif row['ph'] == 'E':\n",
    "            end_slice(row['pid'], row['tid'], row['cat'], row['name'], row['ts'], row.get('tts'))\n",
    "    elif row['ph'] == 'X':\n",
    "        if 'tts' in row and 'tdur' in row:\n",
    "            end_tts = row['tts'] + row['tdur']\n",
    "        if 'dur' in row and row['dur'] > 0:\n",
    "            begin_slice(row['pid'], row['tid'], row['cat'], row['name'], row['ts'], row.get('tts'))\n",
    "            end_slice(row['pid'], row['tid'], row['ts'] + row['dur'], end_tts)"
   ]
  },
  {
   "cell_type": "code",
   "execution_count": 38,
   "metadata": {},
   "outputs": [],
   "source": [
    "import json\n",
    "\n",
    "with open('merged.json', 'w') as file:\n",
    "     file.write(json.dumps(root))"
   ]
  },
  {
   "cell_type": "code",
   "execution_count": null,
   "metadata": {},
   "outputs": [],
   "source": []
  }
 ],
 "metadata": {
  "kernelspec": {
   "display_name": "Python 3",
   "language": "python",
   "name": "python3"
  },
  "language_info": {
   "codemirror_mode": {
    "name": "ipython",
    "version": 3
   },
   "file_extension": ".py",
   "mimetype": "text/x-python",
   "name": "python",
   "nbconvert_exporter": "python",
   "pygments_lexer": "ipython3",
   "version": "3.6.3"
  }
 },
 "nbformat": 4,
 "nbformat_minor": 2
}
