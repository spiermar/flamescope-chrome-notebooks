{
 "cells": [
  {
   "cell_type": "code",
   "execution_count": 70,
   "metadata": {},
   "outputs": [],
   "source": [
    "f = open('Profile-20180716T115056', 'r')"
   ]
  },
  {
   "cell_type": "code",
   "execution_count": 71,
   "metadata": {},
   "outputs": [],
   "source": [
    "import json\n",
    "\n",
    "profile = json.load(f)"
   ]
  },
  {
   "cell_type": "code",
   "execution_count": 72,
   "metadata": {},
   "outputs": [],
   "source": [
    "profile_events = []\n",
    "\n",
    "for row in profile:\n",
    "    if row['ph'] == 'I' and row['name'] == 'CpuProfile':\n",
    "        profile_events.append(row)"
   ]
  },
  {
   "cell_type": "code",
   "execution_count": 73,
   "metadata": {
    "scrolled": false
   },
   "outputs": [],
   "source": [
    "def parse_nodes(data):\n",
    "    nodes = {}\n",
    "    for node in data['cpuProfile']['nodes']:\n",
    "        node_id = node['id']\n",
    "        function_name = node['callFrame']['functionName']\n",
    "        url = node['callFrame']['url']\n",
    "        line_number = node['callFrame']['lineNumber']\n",
    "        children = node.get('children')\n",
    "        hit_count = node.get('hitCount')\n",
    "        nodes[node_id] = {'function_name': function_name, 'url': url, 'line_number': line_number, 'hit_count': hit_count, 'children': children}\n",
    "    return nodes"
   ]
  },
  {
   "cell_type": "code",
   "execution_count": 74,
   "metadata": {},
   "outputs": [],
   "source": [
    "import copy\n",
    "\n",
    "def generate_stacks(node_id, nodes, stacks, current_stack):\n",
    "    node = nodes[node_id] # break in case id doesn't exist\n",
    "    if node['function_name'] == '':\n",
    "        node['function_name'] = '(anonymous)'\n",
    "    current_stack.append(node['function_name'])\n",
    "    stacks[node_id] = current_stack\n",
    "    if node['children']:\n",
    "        for child in node['children']:\n",
    "            generate_stacks(child, nodes, stacks, copy.copy(current_stack))\n",
    "    del nodes[node_id]"
   ]
  },
  {
   "cell_type": "code",
   "execution_count": 86,
   "metadata": {},
   "outputs": [],
   "source": [
    "def get_events(pid, tid, samples, time_deltas, start_time, stacks, program_id, idle_id, gc_id):\n",
    "    events = []\n",
    "    current_time = start_time\n",
    "    last_sample = None\n",
    "    last_sample_time = None\n",
    "    for index, delta in enumerate(time_deltas):\n",
    "        current_time += delta\n",
    "        sample = samples[index]\n",
    "        if sample != last_sample or (index + 1) == len(time_deltas):\n",
    "            if sample not in (program_id, idle_id, gc_id):\n",
    "                stack = stacks[sample]\n",
    "                events.append({\n",
    "                    'pid': pid,\n",
    "                    'tid': tid,\n",
    "                    'name': stack[len(stack) - 1],\n",
    "                    'cat': 'JSSample',\n",
    "                    'ph': 'X',\n",
    "                    'ts': last_sample_time,\n",
    "                    'dur': current_time - last_sample_time,\n",
    "                    'stack': stack\n",
    "                })\n",
    "            last_sample = sample\n",
    "            last_sample_time = current_time\n",
    "    return events"
   ]
  },
  {
   "cell_type": "code",
   "execution_count": 87,
   "metadata": {},
   "outputs": [],
   "source": [
    "def get_meta_ids(nodes):\n",
    "    program_node_id = None\n",
    "    idle_node_id = None\n",
    "    gc_node_id = None\n",
    "    for key, node in nodes.items():\n",
    "        if node['function_name'] == '(program)':\n",
    "            program_node_id = key\n",
    "        elif node['function_name'] == '(idle)':\n",
    "            idle_node_id = key\n",
    "        elif node['function_name'] == '(garbage collector)':\n",
    "            gc_node_id = key\n",
    "    return program_node_id, idle_node_id, gc_node_id"
   ]
  },
  {
   "cell_type": "code",
   "execution_count": 92,
   "metadata": {},
   "outputs": [],
   "source": [
    "js_events = []\n",
    "\n",
    "for profile in profile_events:\n",
    "    pid = profile['pid']\n",
    "    tid = profile['tid']\n",
    "    data = profile['args']['data']\n",
    "    root_id = data['cpuProfile']['nodes'][0]['id']\n",
    "    nodes = parse_nodes(data)\n",
    "    program_id, idle_id, gc_id = get_meta_ids(nodes)\n",
    "    stacks = {}\n",
    "    generate_stacks(root_id, nodes, stacks, [])\n",
    "    js_events += get_events(pid, tid, data['cpuProfile']['samples'], data['cpuProfile']['timeDeltas'], data['cpuProfile']['startTime'], stacks, program_id, idle_id, gc_id)\n"
   ]
  },
  {
   "cell_type": "code",
   "execution_count": null,
   "metadata": {},
   "outputs": [],
   "source": [
    "root = {'name': 'root', 'value': 0, 'children': []}\n",
    "open_partial_slices = {}\n",
    "\n",
    "# TODO: handle CPU time differences, where \"E\" comes before \"B\"\n",
    "\n",
    "def get_child_slice(parent_slice, name):\n",
    "    for index, child in enumerate(parent_slice['children']):\n",
    "        if child['name'] == name:\n",
    "            return parent_slice['children'].pop(index)\n",
    "    return None\n",
    "\n",
    "def insert_slice(parent_slice, new_slice):\n",
    "    child_slice = get_child_slice(parent_slice, new_slice['name'])\n",
    "    if child_slice is None:\n",
    "        parent_slice['children'].append(new_slice)\n",
    "    else:\n",
    "        for child in new_slice['children']:\n",
    "            insert_slice(child_slice, child)\n",
    "        child_slice['value'] += new_slice['value']\n",
    "        parent_slice['children'].append(child_slice)\n",
    "\n",
    "def check_thread(pid, tid):\n",
    "    if pid not in open_partial_slices:\n",
    "        open_partial_slices[pid] = {}\n",
    "    if tid not in open_partial_slices[pid]:\n",
    "        open_partial_slices[pid][tid] = []\n",
    "\n",
    "def begin_slice(pid, tid, cat, name, ts, tts):\n",
    "    check_thread(pid, tid)\n",
    "    open_partial_slices[pid][tid].append({'pid': pid, 'tid': tid, 'cat': cat, 'name': name, 'ts': ts, 'tts': tts, 'children': []})\n",
    "\n",
    "def end_slice(pid, tid, ts, tts):\n",
    "    partial_slice_count = len(open_partial_slices[pid][tid])\n",
    "    if partial_slice_count > 0:\n",
    "        current_slice = open_partial_slices[pid][tid].pop()\n",
    "        current_slice['dur'] = ts - current_slice['ts']\n",
    "        current_slice['tdur'] = tts - current_slice['tts']\n",
    "        if current_slice['dur'] > 0:\n",
    "            current_slice['value'] = current_slice['tdur'] / current_slice['dur']\n",
    "        partial_slice_count = len(open_partial_slices[pid][tid])\n",
    "        if partial_slice_count > 0:\n",
    "            open_partial_slices[pid][tid][partial_slice_count - 1]['children'].append(current_slice)\n",
    "        else:\n",
    "            insert_slice(root, current_slice)\n",
    "    else:\n",
    "        raise Exception(\"end_slice called without an open slice\")"
   ]
  },
  {
   "cell_type": "code",
   "execution_count": null,
   "metadata": {},
   "outputs": [],
   "source": [
    "start = None\n",
    "end = None\n",
    "\n",
    "# TODO: handle \"sf\" and \"stack\" properties on Duration Events\n",
    "\n",
    "for row in profile:\n",
    "    if row['ph'] != 'M':\n",
    "        if start is None or int(row['ts']) < start:\n",
    "            start = int(row['ts'])\n",
    "        if end is None or int(row['ts']) > end:\n",
    "            end = int(row['ts'])\n",
    "    if row['ph'] == 'B' or row['ph'] == 'E':\n",
    "        if row['ph'] == 'B':\n",
    "            begin_slice(row['pid'], row['tid'], row['cat'], row['name'], row['ts'], row['tts'])\n",
    "        elif row['ph'] == 'E':\n",
    "            end_slice(row['pid'], row['tid'], row['ts'], row['tts'])\n",
    "    elif row['ph'] == 'X':\n",
    "        if 'dur' in row and row['dur'] > 0 and 'tdur' in row and row['tdur'] > 0:\n",
    "            begin_slice(row['pid'], row['tid'], row['cat'], row['name'], row['ts'], row['tts'])\n",
    "            end_slice(row['pid'], row['tid'], row['ts'] + row['dur'], row['tts'] + row['tdur'])"
   ]
  },
  {
   "cell_type": "code",
   "execution_count": null,
   "metadata": {},
   "outputs": [],
   "source": [
    "import json\n",
    "\n",
    "with open('trace_event_v2.json', 'w') as file:\n",
    "     file.write(json.dumps(root))"
   ]
  }
 ],
 "metadata": {
  "kernelspec": {
   "display_name": "Python 3",
   "language": "python",
   "name": "python3"
  },
  "language_info": {
   "codemirror_mode": {
    "name": "ipython",
    "version": 3
   },
   "file_extension": ".py",
   "mimetype": "text/x-python",
   "name": "python",
   "nbconvert_exporter": "python",
   "pygments_lexer": "ipython3",
   "version": "3.6.5"
  }
 },
 "nbformat": 4,
 "nbformat_minor": 2
}
