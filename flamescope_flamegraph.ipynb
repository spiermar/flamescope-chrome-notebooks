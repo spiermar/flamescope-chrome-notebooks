{
 "cells": [
  {
   "cell_type": "code",
   "execution_count": 1,
   "metadata": {},
   "outputs": [],
   "source": [
    "f = open('Profile-20180716T115056', 'r')"
   ]
  },
  {
   "cell_type": "code",
   "execution_count": 3,
   "metadata": {},
   "outputs": [],
   "source": [
    "import json\n",
    "\n",
    "data = json.load(f)"
   ]
  },
  {
   "cell_type": "code",
   "execution_count": 27,
   "metadata": {
    "scrolled": false
   },
   "outputs": [
    {
     "name": "stdout",
     "output_type": "stream",
     "text": [
      "24577\n",
      "24578\n",
      "24579\n",
      "24580\n",
      "24581\n",
      "24582\n",
      "24583\n",
      "24584\n",
      "24585\n",
      "24586\n",
      "24587\n",
      "24588\n",
      "24589\n",
      "24590\n",
      "24591\n",
      "24592\n",
      "24593\n",
      "24594\n",
      "24595\n",
      "24596\n",
      "24597\n",
      "24598\n",
      "24599\n",
      "24600\n",
      "24601\n",
      "24602\n",
      "24603\n",
      "24604\n",
      "24605\n",
      "24606\n",
      "24607\n",
      "24608\n",
      "24609\n",
      "24610\n",
      "24611\n",
      "24612\n",
      "24613\n",
      "24614\n",
      "24615\n",
      "24616\n",
      "24617\n",
      "24618\n",
      "24619\n",
      "24620\n",
      "24621\n",
      "24622\n",
      "24623\n",
      "24624\n",
      "24625\n",
      "24626\n",
      "24627\n",
      "24628\n",
      "24629\n",
      "24630\n",
      "24631\n",
      "24632\n",
      "24633\n",
      "24634\n",
      "24635\n",
      "24636\n",
      "24637\n"
     ]
    }
   ],
   "source": [
    "counts = {}\n",
    "\n",
    "for row in data:\n",
    "    if row['cat'] == 'devtools.timeline' and row['name'] == 'FunctionCall':\n",
    "        sec = int('%.0f'%(row['ts'] / 1000000))\n",
    "        if sec in counts:\n",
    "            counts[sec].append(row['ts'])\n",
    "        else:\n",
    "            counts[sec] = [row['ts']]\n",
    "\n",
    "counts_2 = []       \n",
    "\n",
    "for key, value in sorted(counts.items()):\n",
    "    counts_2.append(items)"
   ]
  },
  {
   "cell_type": "code",
   "execution_count": null,
   "metadata": {},
   "outputs": [],
   "source": []
  }
 ],
 "metadata": {
  "kernelspec": {
   "display_name": "Python 3",
   "language": "python",
   "name": "python3"
  },
  "language_info": {
   "codemirror_mode": {
    "name": "ipython",
    "version": 3
   },
   "file_extension": ".py",
   "mimetype": "text/x-python",
   "name": "python",
   "nbconvert_exporter": "python",
   "pygments_lexer": "ipython3",
   "version": "3.6.5"
  }
 },
 "nbformat": 4,
 "nbformat_minor": 2
}
