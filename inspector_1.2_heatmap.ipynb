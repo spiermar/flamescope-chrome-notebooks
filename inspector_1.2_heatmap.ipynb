{
 "cells": [
  {
   "cell_type": "markdown",
   "metadata": {
    "deletable": true,
    "editable": true
   },
   "source": [
    "# Inspector 1.2 Heatmap\n",
    "\n",
    "How to generate a FlameScope heatmap out of Google's Inspector 1.2 format. This heatmap does not include the Trace Event traces. Example file was recorded in Chrome."
   ]
  },
  {
   "cell_type": "code",
   "execution_count": 2,
   "metadata": {
    "collapsed": true,
    "deletable": true,
    "editable": true
   },
   "outputs": [],
   "source": [
    "f = open('examples/Profile-20180716T115056', 'r')"
   ]
  },
  {
   "cell_type": "code",
   "execution_count": 3,
   "metadata": {
    "collapsed": true,
    "deletable": true,
    "editable": true
   },
   "outputs": [],
   "source": [
    "import json\n",
    "\n",
    "profile = json.load(f)"
   ]
  },
  {
   "cell_type": "code",
   "execution_count": 4,
   "metadata": {
    "collapsed": true,
    "deletable": true,
    "editable": true
   },
   "outputs": [],
   "source": [
    "profile_events = []\n",
    "\n",
    "for row in profile:\n",
    "    if row['ph'] == 'I' and row['name'] == 'CpuProfile':\n",
    "        profile_events.append(row)"
   ]
  },
  {
   "cell_type": "code",
   "execution_count": 5,
   "metadata": {
    "collapsed": true,
    "deletable": true,
    "editable": true
   },
   "outputs": [],
   "source": [
    "import math\n",
    "\n",
    "def parse_times(data):\n",
    "    start_time = math.floor(data['cpuProfile']['startTime'] / 1000000) * 1000000\n",
    "    end_time = math.ceil(data['cpuProfile']['endTime'] / 1000000) * 1000000\n",
    "    return start_time, end_time"
   ]
  },
  {
   "cell_type": "code",
   "execution_count": 6,
   "metadata": {
    "collapsed": true,
    "deletable": true,
    "editable": true,
    "scrolled": false
   },
   "outputs": [],
   "source": [
    "def parse_nodes(data):\n",
    "    idle_id = None\n",
    "    nodes = {}\n",
    "    for node in data['cpuProfile']['nodes']:\n",
    "        node_id = node['id']\n",
    "        function_name = node['callFrame']['functionName']\n",
    "        url = node['callFrame']['url']\n",
    "        line_number = node['callFrame']['lineNumber']\n",
    "        children = node.get('children')\n",
    "        hit_count = node.get('hitCount')\n",
    "        nodes[node_id] = {'function_name': function_name, 'url': url, 'line_number': line_number, 'hit_count': hit_count, 'children': children}\n",
    "        if function_name == '(idle)':\n",
    "            idle_id = node_id\n",
    "    return nodes, idle_id"
   ]
  },
  {
   "cell_type": "code",
   "execution_count": 7,
   "metadata": {
    "collapsed": true,
    "deletable": true,
    "editable": true
   },
   "outputs": [],
   "source": [
    "COLUMN_DURATION = 1000000 # 1 second\n",
    "\n",
    "def build_heatmap(data, start_time, interval, heatmap):\n",
    "    time_deltas = data['cpuProfile']['timeDeltas']\n",
    "    samples = data['cpuProfile']['samples']\n",
    "    nodes, idle_id = parse_nodes(data)\n",
    "    current_time = get_lead_time(data, start_time)\n",
    "\n",
    "    for index, delta in enumerate(time_deltas):\n",
    "        current_time += delta\n",
    "        if samples[index] != idle_id:\n",
    "            col_index = int(current_time // COLUMN_DURATION)\n",
    "            row_index = int(math.floor((current_time % COLUMN_DURATION) / interval))\n",
    "            heatmap[col_index][row_index] += 1\n",
    "    return heatmap"
   ]
  },
  {
   "cell_type": "code",
   "execution_count": 8,
   "metadata": {
    "collapsed": true,
    "deletable": true,
    "editable": true
   },
   "outputs": [],
   "source": [
    "def get_lead_time(data, start_time):\n",
    "    return data['cpuProfile']['startTime'] - start_time"
   ]
  },
  {
   "cell_type": "code",
   "execution_count": 9,
   "metadata": {
    "collapsed": false,
    "deletable": true,
    "editable": true
   },
   "outputs": [
    {
     "name": "stdout",
     "output_type": "stream",
     "text": [
      "24576000000 24637000000 61000000\n"
     ]
    }
   ],
   "source": [
    "global_start_time = None\n",
    "global_end_time = None\n",
    "\n",
    "for profile in profile_events:\n",
    "    data = profile['args']['data']\n",
    "    start_time, end_time = parse_times(data)\n",
    "    if global_start_time is None or start_time < global_start_time:\n",
    "        global_start_time = start_time\n",
    "    if global_end_time is None or end_time > global_end_time:\n",
    "        global_end_time = end_time\n",
    "        \n",
    "duration = global_end_time - global_start_time\n",
    "\n",
    "print(global_start_time, global_end_time, duration)"
   ]
  },
  {
   "cell_type": "code",
   "execution_count": 10,
   "metadata": {
    "collapsed": true,
    "deletable": true,
    "editable": true
   },
   "outputs": [],
   "source": [
    "ROWS = 50 # 20 ms\n",
    "\n",
    "interval = COLUMN_DURATION / ROWS\n",
    "columns = duration / interval / ROWS\n",
    "\n",
    "heatmap = [[0 for i in range(ROWS)] for j in range(int(columns))]"
   ]
  },
  {
   "cell_type": "code",
   "execution_count": 11,
   "metadata": {
    "collapsed": true,
    "deletable": true,
    "editable": true,
    "scrolled": false
   },
   "outputs": [],
   "source": [
    "for profile in profile_events:\n",
    "    data = profile['args']['data']\n",
    "    heatmap = build_heatmap(data, global_start_time, interval, heatmap)"
   ]
  },
  {
   "cell_type": "code",
   "execution_count": 12,
   "metadata": {
    "collapsed": false,
    "deletable": true,
    "editable": true,
    "scrolled": false
   },
   "outputs": [
    {
     "data": {
      "image/png": "[encoded data removed]",
      "text/plain": [
       "<Figure size 1152x1152 with 1 Axes>"
      ]
     },
     "metadata": {},
     "output_type": "display_data"
    }
   ],
   "source": [
    "%matplotlib inline\n",
    "\n",
    "import numpy as np\n",
    "import matplotlib.pyplot as plt\n",
    "\n",
    "plt.rcParams['figure.figsize'] = [16, 16]\n",
    "\n",
    "plt.imshow(np.transpose(heatmap), cmap='hot', origin='lower')\n",
    "plt.show()"
   ]
  },
  {
   "cell_type": "code",
   "execution_count": null,
   "metadata": {
    "collapsed": true,
    "deletable": true,
    "editable": true
   },
   "outputs": [],
   "source": []
  }
 ],
 "metadata": {
  "kernelspec": {
   "display_name": "Python 2",
   "language": "python",
   "name": "python2"
  },
  "language_info": {
   "codemirror_mode": {
    "name": "ipython",
    "version": 2
   },
   "file_extension": ".py",
   "mimetype": "text/x-python",
   "name": "python",
   "nbconvert_exporter": "python",
   "pygments_lexer": "ipython2",
   "version": "2.7.12"
  }
 },
 "nbformat": 4,
 "nbformat_minor": 2
}
