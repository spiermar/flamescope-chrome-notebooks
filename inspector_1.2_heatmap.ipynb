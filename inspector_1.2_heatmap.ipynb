{
 "cells": [
  {
   "cell_type": "code",
   "execution_count": 179,
   "metadata": {},
   "outputs": [],
   "source": [
    "f = open('Profile-20180724T170454_abcnews', 'r')"
   ]
  },
  {
   "cell_type": "code",
   "execution_count": 180,
   "metadata": {},
   "outputs": [],
   "source": [
    "import json\n",
    "\n",
    "profile = json.load(f)"
   ]
  },
  {
   "cell_type": "code",
   "execution_count": 181,
   "metadata": {},
   "outputs": [],
   "source": [
    "profile_events = []\n",
    "\n",
    "for row in profile:\n",
    "    if row['ph'] == 'I' and row['name'] == 'CpuProfile':\n",
    "        profile_events.append(row)"
   ]
  },
  {
   "cell_type": "code",
   "execution_count": 182,
   "metadata": {},
   "outputs": [],
   "source": [
    "import math\n",
    "\n",
    "def parse_times(data):\n",
    "    start_time = math.floor(data['cpuProfile']['startTime'] / 1000000) * 1000000\n",
    "    end_time = math.ceil(data['cpuProfile']['endTime'] / 1000000) * 1000000\n",
    "    return start_time, end_time"
   ]
  },
  {
   "cell_type": "code",
   "execution_count": 183,
   "metadata": {
    "scrolled": false
   },
   "outputs": [],
   "source": [
    "def parse_nodes(data):\n",
    "    idle_id = None\n",
    "    nodes = {}\n",
    "    for node in data['cpuProfile']['nodes']:\n",
    "        node_id = node['id']\n",
    "        function_name = node['callFrame']['functionName']\n",
    "        url = node['callFrame']['url']\n",
    "        line_number = node['callFrame']['lineNumber']\n",
    "        children = node.get('children')\n",
    "        hit_count = node.get('hitCount')\n",
    "        nodes[node_id] = {'function_name': function_name, 'url': url, 'line_number': line_number, 'hit_count': hit_count, 'children': children}\n",
    "        if function_name == '(idle)':\n",
    "            idle_id = node_id\n",
    "    return nodes, idle_id"
   ]
  },
  {
   "cell_type": "code",
   "execution_count": 184,
   "metadata": {},
   "outputs": [],
   "source": [
    "COLUMN_DURATION = 1000000 # 1 second\n",
    "\n",
    "def build_heatmap(data, start_time, interval, heatmap):\n",
    "    time_deltas = data['cpuProfile']['timeDeltas']\n",
    "    samples = data['cpuProfile']['samples']\n",
    "    nodes, idle_id = parse_nodes(data)\n",
    "    current_time = get_lead_time(data, start_time)\n",
    "\n",
    "    for index, delta in enumerate(time_deltas):\n",
    "        current_time += delta\n",
    "        if samples[index] != idle_id:\n",
    "            col_index = int(current_time // COLUMN_DURATION)\n",
    "            row_index = int(math.floor((current_time % COLUMN_DURATION) / interval))\n",
    "            heatmap[col_index][row_index] += 1\n",
    "    return heatmap"
   ]
  },
  {
   "cell_type": "code",
   "execution_count": 185,
   "metadata": {},
   "outputs": [],
   "source": [
    "def get_lead_time(data, start_time):\n",
    "    return data['cpuProfile']['startTime'] - start_time"
   ]
  },
  {
   "cell_type": "code",
   "execution_count": 186,
   "metadata": {},
   "outputs": [
    {
     "name": "stdout",
     "output_type": "stream",
     "text": [
      "197976000000 197983000000 7000000\n"
     ]
    }
   ],
   "source": [
    "global_start_time = None\n",
    "global_end_time = None\n",
    "\n",
    "for profile in profile_events:\n",
    "    data = profile['args']['data']\n",
    "    start_time, end_time = parse_times(data)\n",
    "    if global_start_time is None or start_time < global_start_time:\n",
    "        global_start_time = start_time\n",
    "    if global_end_time is None or end_time > global_end_time:\n",
    "        global_end_time = end_time\n",
    "        \n",
    "duration = global_end_time - global_start_time\n",
    "\n",
    "print(global_start_time, global_end_time, duration)"
   ]
  },
  {
   "cell_type": "code",
   "execution_count": 187,
   "metadata": {},
   "outputs": [],
   "source": [
    "ROWS = 50 # 20 ms\n",
    "\n",
    "interval = COLUMN_DURATION / ROWS\n",
    "columns = duration / interval / ROWS\n",
    "\n",
    "heatmap = [[0 for i in range(ROWS)] for j in range(int(columns))]"
   ]
  },
  {
   "cell_type": "code",
   "execution_count": 188,
   "metadata": {
    "scrolled": false
   },
   "outputs": [],
   "source": [
    "for profile in profile_events:\n",
    "    data = profile['args']['data']\n",
    "    heatmap = build_heatmap(data, global_start_time, interval, heatmap)"
   ]
  },
  {
   "cell_type": "code",
   "execution_count": 189,
   "metadata": {
    "scrolled": false
   },
   "outputs": [
    {
     "data": {
      "image/png": "[encoded data removed]",
      "text/plain": [
       "<matplotlib.figure.Figure at 0x12a069978>"
      ]
     },
     "metadata": {},
     "output_type": "display_data"
    }
   ],
   "source": [
    "%matplotlib inline\n",
    "\n",
    "import numpy as np\n",
    "import matplotlib.pyplot as plt\n",
    "\n",
    "plt.rcParams['figure.figsize'] = [16, 16]\n",
    "\n",
    "plt.imshow(np.transpose(heatmap), cmap='hot', origin='lower')\n",
    "plt.show()"
   ]
  },
  {
   "cell_type": "code",
   "execution_count": null,
   "metadata": {},
   "outputs": [],
   "source": []
  }
 ],
 "metadata": {
  "kernelspec": {
   "display_name": "Python 3",
   "language": "python",
   "name": "python3"
  },
  "language_info": {
   "codemirror_mode": {
    "name": "ipython",
    "version": 3
   },
   "file_extension": ".py",
   "mimetype": "text/x-python",
   "name": "python",
   "nbconvert_exporter": "python",
   "pygments_lexer": "ipython3",
   "version": "3.6.3"
  }
 },
 "nbformat": 4,
 "nbformat_minor": 2
}
